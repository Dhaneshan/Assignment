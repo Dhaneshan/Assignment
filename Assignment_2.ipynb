{
  "nbformat": 4,
  "nbformat_minor": 0,
  "metadata": {
    "colab": {
      "provenance": []
    },
    "kernelspec": {
      "name": "python3",
      "display_name": "Python 3"
    },
    "language_info": {
      "name": "python"
    },
    "accelerator": "GPU",
    "gpuClass": "standard"
  },
  "cells": [
    {
      "cell_type": "markdown",
      "source": [
        "Problem Statement 1\n",
        "\n",
        "Samantha has created a dataset named 'top50spotify.csv' of her top 50 songs from spotify."
      ],
      "metadata": {
        "id": "QgA2Oq1paZsa"
      }
    },
    {
      "cell_type": "code",
      "source": [
        "import pandas as pd\n",
        "Data=pd.read_csv(\"/content/top50spotify(1).csv\")\n",
        "Data=Data.drop(Data.columns[0],axis=1)\n",
        "Data.to_csv('Songs.csv')\n",
        "Data=pd.read_csv(\"/content/Songs.csv\")\n"
      ],
      "metadata": {
        "id": "M8ZWOVaqadUM"
      },
      "execution_count": 13,
      "outputs": []
    },
    {
      "cell_type": "markdown",
      "source": [
        "Display the first five row from the datasets"
      ],
      "metadata": {
        "id": "kBBlFlB0bwe_"
      }
    },
    {
      "cell_type": "code",
      "source": [
        "Data.head(5)"
      ],
      "metadata": {
        "id": "zY3x2-dyb0nW"
      },
      "execution_count": null,
      "outputs": []
    },
    {
      "cell_type": "markdown",
      "source": [
        "Find the average Energy and Length of first 10 songs."
      ],
      "metadata": {
        "id": "VwOflKwtcRxR"
      }
    },
    {
      "cell_type": "code",
      "source": [
        "First_10=Data.head(10)\n",
        "print(\"Average Engergy of the first 10 song\",First_10[\"Energy\"].mean())\n",
        "print(\"Average Length of the first 10 song\",First_10[\"Length.\"].mean())"
      ],
      "metadata": {
        "id": "HncqnGVKcUdU"
      },
      "execution_count": null,
      "outputs": []
    },
    {
      "cell_type": "markdown",
      "source": [
        "Find the total length of songs, group by genre from top to bottom."
      ],
      "metadata": {
        "id": "fx-LfWHKdAT_"
      }
    },
    {
      "cell_type": "code",
      "source": [
        "Data.groupby('Genre')['Length.'].sum().sort_values(ascending=False)"
      ],
      "metadata": {
        "id": "VDVo7NOkc-8Y"
      },
      "execution_count": null,
      "outputs": []
    },
    {
      "cell_type": "markdown",
      "source": [
        "Print the artist name with the most number of tracks in one genre."
      ],
      "metadata": {
        "id": "SN-rV8H_deax"
      }
    },
    {
      "cell_type": "code",
      "source": [
        "keys=['Genre','Artist','No_Tracks']\n",
        "Top=pd.DataFrame(columns=keys)\n",
        "i=0\n",
        "for val1,val2 in Data.groupby(['Genre','Artist.Name']):\n",
        "    Top.loc[i]=[val1[0],val1[1],val2['Track.Name'].count()]\n",
        "    i=i+1\n",
        "\n",
        "Top[Top.No_Tracks==Top.No_Tracks.max()]"
      ],
      "metadata": {
        "id": "Cga9spvydhPf"
      },
      "execution_count": null,
      "outputs": []
    },
    {
      "cell_type": "markdown",
      "source": [
        "Print the data of the tracks created by the artist from the previous question."
      ],
      "metadata": {
        "id": "ndjj8HLVecyr"
      }
    },
    {
      "cell_type": "code",
      "source": [
        "Data[Data['Artist.Name']=='Ed Sheeran']"
      ],
      "metadata": {
        "id": "aLlkv1_Uedd7"
      },
      "execution_count": null,
      "outputs": []
    },
    {
      "cell_type": "markdown",
      "source": [
        "Problem Statement 2\n",
        "\n",
        "Write a Python program to perform the following tasks-"
      ],
      "metadata": {
        "id": "Ob2GApL7e-6F"
      }
    },
    {
      "cell_type": "markdown",
      "source": [
        "Create a pandas series from below dictionary where indices are subjects:\n",
        "\n",
        "{'English':{'Sam':60,'Jackson':74,'Ahree':85}, \n",
        "'History':{'Gloria':83,'Sam':65,'Isla':78,'Aron':72,'Gray':61},\n",
        "'Geography':{'Jackson':92,'Gloria':95,'Isla':82,'Aron':75,'Ahree':76},\n",
        "'Mathematics':{'Sam':99,'Gloria':74,'Jackson':89,'Ahree':85,'Gray':95},\n",
        "'Science':{'Sam':89,'Aron':82,'Gray':78,'Isla':93,'Ahree':87}\n",
        " }"
      ],
      "metadata": {
        "id": "3iNSlkIcfLgn"
      }
    },
    {
      "cell_type": "code",
      "source": [
        "Data1={'English':{'Sam':60,'Jackson':74,'Ahree':85}, \n",
        "'History':{'Gloria':83,'Sam':65,'Isla':78,'Aron':72,'Gray':61},\n",
        "'Geography':{'Jackson':92,'Gloria':95,'Isla':82,'Aron':75,'Ahree':76},\n",
        "'Mathematics':{'Sam':99,'Gloria':74,'Jackson':89,'Ahree':85,'Gray':95},\n",
        "'Science':{'Sam':89,'Aron':82,'Gray':78,'Isla':93,'Ahree':87}\n",
        " }\n",
        "Data1=pd.DataFrame(Data1)\n",
        "Data1"
      ],
      "metadata": {
        "id": "o8M4G9kAfNIY"
      },
      "execution_count": null,
      "outputs": []
    },
    {
      "cell_type": "markdown",
      "source": [
        "Convert the created series into DataFrame and replace the null values with zeroes."
      ],
      "metadata": {
        "id": "AORzN5tyfkFF"
      }
    },
    {
      "cell_type": "code",
      "source": [
        "Data1=Data1.fillna(0)"
      ],
      "metadata": {
        "id": "k5Gz5QTtflDg"
      },
      "execution_count": 34,
      "outputs": []
    },
    {
      "cell_type": "markdown",
      "source": [
        "Transpose the DataFrame "
      ],
      "metadata": {
        "id": "f6eAo8hvftnC"
      }
    },
    {
      "cell_type": "code",
      "source": [
        "Data1.transpose()"
      ],
      "metadata": {
        "id": "G1UDbqmWfuLj"
      },
      "execution_count": null,
      "outputs": []
    },
    {
      "cell_type": "markdown",
      "source": [
        "create a new column 'Average' and fill the values in it by calculating the average of all subjects."
      ],
      "metadata": {
        "id": "B1WMb7Clfy3N"
      }
    },
    {
      "cell_type": "code",
      "source": [
        "Data1['Average']=Data1[['English','History','Geography','Mathematics','Science']].mean(axis=1)\n",
        "Data1\n"
      ],
      "metadata": {
        "id": "IyyCTXmif1sD"
      },
      "execution_count": null,
      "outputs": []
    },
    {
      "cell_type": "markdown",
      "source": [
        "Problem Statement 3\n",
        "Task to be performed:\n",
        "\n",
        "Write a Python program to create a series from 1 to 1000 and select only numbers divisible by 7 and 17."
      ],
      "metadata": {
        "id": "RtG1P5AUjFA2"
      }
    },
    {
      "cell_type": "code",
      "source": [
        "Data2=pd.Series(range(1,1001))\n",
        "print(Data2)\n",
        "Result=Data2[(Data2%7==0) & (Data2%17==0)]\n",
        "print(Result)"
      ],
      "metadata": {
        "id": "3YHNe2yDjKZY"
      },
      "execution_count": null,
      "outputs": []
    },
    {
      "cell_type": "markdown",
      "source": [
        "Problem Statement 4\n",
        "\n",
        "Sylphia has a dataset of various cereals sold in the supermarket.\n",
        "Dataset Description:\n",
        "\n",
        "cereal.csv - The dataset contains 16 features. Here's a brief description of 3 columns in the dataset:\n",
        "\n",
        "    name - Brand name of the cereals\n",
        "    MFR - Manufacturer of the brands\n",
        "    rating - Rating of the cereals\n",
        "\n",
        "Syliphia wants to visualize the quality of cereals and determine which manufacturer delivers the best quality.\n",
        "Tasks to be performed:"
      ],
      "metadata": {
        "id": "6YOucFc7kEtX"
      }
    },
    {
      "cell_type": "code",
      "source": [
        "import matplotlib.pyplot as plt\n",
        "import numpy as np\n",
        "Cereal_Data=pd.read_csv(\"/content/cereal.csv\")\n",
        "plt.barh(list(set(Cereal_Data.mfr)),Cereal_Data.groupby('mfr').rating.mean())\n",
        "plt.show()"
      ],
      "metadata": {
        "id": "Rb0Xcv8GkLHm"
      },
      "execution_count": null,
      "outputs": []
    },
    {
      "cell_type": "markdown",
      "source": [
        "Use xticks range form 0-100."
      ],
      "metadata": {
        "id": "8vSp4wLSokOc"
      }
    },
    {
      "cell_type": "code",
      "source": [
        "plt.xticks(np.arange(0,101,10))\n",
        "plt.show()"
      ],
      "metadata": {
        "id": "NgItVKr9omj7"
      },
      "execution_count": null,
      "outputs": []
    },
    {
      "cell_type": "markdown",
      "source": [
        "\n",
        "Change style of the graph to seaborn."
      ],
      "metadata": {
        "id": "wMVXTnC2pLxq"
      }
    },
    {
      "cell_type": "code",
      "source": [
        "plt.style.use('seaborn')\n",
        "plt.barh(list(set(Cereal_Data.mfr)),Cereal_Data.groupby('mfr').rating.mean())\n",
        "plt.show()"
      ],
      "metadata": {
        "id": "borkOfu2pN0q"
      },
      "execution_count": null,
      "outputs": []
    }
  ]
}